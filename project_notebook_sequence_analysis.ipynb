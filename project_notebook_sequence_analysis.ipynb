{
 "cells": [
  {
   "cell_type": "markdown",
   "metadata": {},
   "source": [
    "# Sequence Analysis with Python\n",
    "\n",
    "Contact: Veli Mäkinen veli.makinen@helsinki.fi"
   ]
  },
  {
   "cell_type": "markdown",
   "metadata": {},
   "source": [
    "The following assignments introduce applications of hashing with ```dict()``` primitive of Python. While doing so, a rudimentary introduction to biological sequences is given. \n",
    "This framework is then enhanced with probabilities, leading to routines to generate random sequences under some constraints, including a general concept of *Markov-chains*. All these components illustrate the usage of ```dict()```, but at the same time introduce some other computational routines to efficiently deal with probabilities.   \n",
    "The function ```collections.defaultdict``` can be useful.\n",
    "\n",
    "Below are some \"suggested\" imports. Feel free to use and modify these, or not. Generally it's good practice to keep most or all imports in one place. Typically very close to the start of notebooks."
   ]
  },
  {
   "cell_type": "code",
   "execution_count": 2,
   "metadata": {
    "ExecuteTime": {
     "end_time": "2019-07-08T22:04:22.831112Z",
     "start_time": "2019-07-08T22:04:22.688031Z"
    }
   },
   "outputs": [],
   "source": [
    "from collections import defaultdict\n",
    "import itertools\n",
    "\n",
    "import pandas as pd\n",
    "import numpy as np\n",
    "from numpy import random\n",
    "\n",
    "from bs4 import BeautifulSoup\n",
    "import re\n",
    "\n",
    "from math import log2\n",
    "\n",
    "\n",
    "\n",
    "from pprint import pprint as print\n",
    "\n",
    "\n",
    "# completed exercises: 1,2,3,4,5,6,7,8,9,10,11,12,13,14,15,18, (19)\n",
    "\n",
    "# codon file saved as default: \"Codon usage table.html\"\n",
    "\n",
    "# Markus Vasemägi"
   ]
  },
  {
   "cell_type": "markdown",
   "metadata": {},
   "source": [
    "The automated TMC tests do not test cell outputs. These are intended to be evaluated in the peer reviews. So it is still be a good idea to make the outputs as clear and informative as possible.\n",
    "\n",
    "To keep TMC tests running as well as possible it is recommended to keep global variable assignments in the notebook to a minimum to avoid potential name clashes and confusion. Additionally you should keep all actual code exection in main guards to keep the test running smoothly. If you run [check_sequence.py](https://raw.githubusercontent.com/saskeli/data-analysis-with-python-summer-2019/master/check_outputs.py) in the `part07-e01_sequence_analysis` folder, the script should finish very quickly and optimally produce no output.\n",
    "\n",
    "If you download data from the internet during execution (codon usage table), the parts where downloading is done should not work if you decide to submit to the tmc server. Local tests should work fine."
   ]
  },
  {
   "cell_type": "markdown",
   "metadata": {},
   "source": [
    "## DNA and RNA\n",
    "\n",
    "A DNA molecule consist, in principle, of a chain of smaller molecules. These smaller molecules have some common basic components (bases) that repeat. For our purposes it is sufficient to know that these bases are nucleotides adenine, cytosine, guanine, and thymine with abbreviations ```A```, ```C```, ```G```, and ```T```. Given a *DNA sequence* e.g. ```ACGATGAGGCTCAT```, one can reverse engineer (with negligible loss of information) the corresponding DNA molecule.\n",
    "\n",
    "Parts of a DNA molecule can *transcribe* into an RNA molecule. In this process, thymine gets replaced by uracil (```U```). \n",
    "\n",
    "\n",
    "1. Write a function ```dna_to_rna``` to convert a given DNA sequence $s$ into an RNA sequence. For the sake of exercise, use ```dict()``` to store the symbol to symbol encoding rules. Create a program to test your function."
   ]
  },
  {
   "cell_type": "code",
   "execution_count": 138,
   "metadata": {
    "ExecuteTime": {
     "end_time": "2019-07-08T22:04:22.841952Z",
     "start_time": "2019-07-08T22:04:22.834721Z"
    },
    "tags": []
   },
   "outputs": [
    {
     "name": "stdout",
     "output_type": "stream",
     "text": [
      "'AACGUGAUUUC'\n"
     ]
    }
   ],
   "source": [
    "\n",
    "def dna_to_rna(seq):\n",
    "    seq = seq.upper()\n",
    "    d = {'A':'A', 'C':'C', 'G':'G', 'T':'U'}\n",
    "    \n",
    "    return \"\".join(d.get(base) for base in seq)\n",
    "    \n",
    "    \n",
    "if __name__ == '__main__':\n",
    "    print(dna_to_rna(\"AACGTGATTTC\"))"
   ]
  },
  {
   "cell_type": "markdown",
   "metadata": {},
   "source": [
    "### Idea of solution\n",
    "\n",
    "For each base (character) in string fetch it's corresponding dictionary value."
   ]
  },
  {
   "cell_type": "markdown",
   "metadata": {},
   "source": [
    "### Discussion\n",
    "\n",
    "fill in "
   ]
  },
  {
   "cell_type": "markdown",
   "metadata": {},
   "source": [
    "## Proteins\n",
    "\n",
    "Like DNA and RNA, protein molecule can be interpreted as a chain of smaller molecules, where the bases are now amino acids. RNA molecule may *translate* into a protein molecule, but instead of base by base, three bases of RNA correspond to one base of protein. That is, RNA sequence is read triplet (called codon) at a time. \n",
    "\n",
    "2. Consider the codon to amino acid conversion table in http://htmlpreview.github.io/?https://github.com/csmastersUH/data_analysis_with_python_2020/blob/master/Codon%20usage%20table.html. Write a function ```get_dict``` to read the table into a ```dict()```, such that for each RNA sequence of length 3, say $\\texttt{AGU}$, the hash table stores the conversion rule to the corresponding amino acid. You may store the html page to your local src directory,\n",
    "and parse that file."
   ]
  },
  {
   "cell_type": "code",
   "execution_count": 184,
   "metadata": {
    "ExecuteTime": {
     "end_time": "2019-07-08T22:04:22.867855Z",
     "start_time": "2019-07-08T22:04:22.845885Z"
    },
    "tags": []
   },
   "outputs": [
    {
     "name": "stdout",
     "output_type": "stream",
     "text": [
      "{'AAA': 'K',\n",
      " 'AAC': 'N',\n",
      " 'AAG': 'K',\n",
      " 'AAU': 'N',\n",
      " 'ACA': 'T',\n",
      " 'ACC': 'T',\n",
      " 'ACG': 'T',\n",
      " 'ACU': 'T',\n",
      " 'AGA': 'R',\n",
      " 'AGC': 'S',\n",
      " 'AGG': 'R',\n",
      " 'AGU': 'S',\n",
      " 'AUA': 'I',\n",
      " 'AUC': 'I',\n",
      " 'AUG': 'M',\n",
      " 'AUU': 'I',\n",
      " 'CAA': 'Q',\n",
      " 'CAC': 'H',\n",
      " 'CAG': 'Q',\n",
      " 'CAU': 'H',\n",
      " 'CCA': 'P',\n",
      " 'CCC': 'P',\n",
      " 'CCG': 'P',\n",
      " 'CCU': 'P',\n",
      " 'CGA': 'R',\n",
      " 'CGC': 'R',\n",
      " 'CGG': 'R',\n",
      " 'CGU': 'R',\n",
      " 'CUA': 'L',\n",
      " 'CUC': 'L',\n",
      " 'CUG': 'L',\n",
      " 'CUU': 'L',\n",
      " 'GAA': 'E',\n",
      " 'GAC': 'D',\n",
      " 'GAG': 'E',\n",
      " 'GAU': 'D',\n",
      " 'GCA': 'A',\n",
      " 'GCC': 'A',\n",
      " 'GCG': 'A',\n",
      " 'GCU': 'A',\n",
      " 'GGA': 'G',\n",
      " 'GGC': 'G',\n",
      " 'GGG': 'G',\n",
      " 'GGU': 'G',\n",
      " 'GUA': 'V',\n",
      " 'GUC': 'V',\n",
      " 'GUG': 'V',\n",
      " 'GUU': 'V',\n",
      " 'UAA': '*',\n",
      " 'UAC': 'Y',\n",
      " 'UAG': '*',\n",
      " 'UAU': 'Y',\n",
      " 'UCA': 'S',\n",
      " 'UCC': 'S',\n",
      " 'UCG': 'S',\n",
      " 'UCU': 'S',\n",
      " 'UGA': '*',\n",
      " 'UGC': 'C',\n",
      " 'UGG': 'W',\n",
      " 'UGU': 'C',\n",
      " 'UUA': 'L',\n",
      " 'UUC': 'F',\n",
      " 'UUG': 'L',\n",
      " 'UUU': 'F'}\n",
      "64\n"
     ]
    }
   ],
   "source": [
    "\n",
    "def get_dict():\n",
    "    \n",
    "    try:\n",
    "        with open(\"src/Codon usage table.html\") as f:\n",
    "            soup = BeautifulSoup(f)\n",
    "    except:\n",
    "        try:\n",
    "            with open(\"Codon usage table.html\") as f:\n",
    "                soup = BeautifulSoup(f)\n",
    "        except:\n",
    "            print(\"Something went wrong\")\n",
    "        \n",
    "    \n",
    "    \n",
    "    regex = r\"([A-Z]{3})\\s([A-Z]{1}|[*]{1})\"  # regex magic!\n",
    "    \n",
    "    data = str(soup.pre.text) #.replace(\"<pre>\", \"\").replace(\"</pre>\", \"\")\n",
    "    \n",
    "    fdata = re.findall(regex, data)\n",
    "    \n",
    "    \n",
    "    d = {}\n",
    "    for codon, amino in fdata:\n",
    "        d[codon] = amino\n",
    "    return d\n",
    "\n",
    "    \n",
    "if __name__ == '__main__':\n",
    "    codon_to_aa = get_dict()\n",
    "    print(codon_to_aa)\n",
    "    print(len(codon_to_aa))"
   ]
  },
  {
   "cell_type": "markdown",
   "metadata": {},
   "source": [
    "### Idea of solution\n",
    "\n",
    "Parsing html when there's no <'table'> tag turned out to be challenging. BeautifulSoup offers a functionality to filter html text for tags. \n",
    "\n",
    "There was still a bit of clean up to do, and the RegEx which leaves out the space in the middle took a while to formulate. Then iterating through the list of tuples was relatively straight forward. "
   ]
  },
  {
   "cell_type": "markdown",
   "metadata": {},
   "source": [
    "### Discussion\n",
    "\n",
    "Realized a bit later that regex matching can be quite powerful, so filtering for the specific \"pre\" tag wasn't even necessary, oh well.  "
   ]
  },
  {
   "cell_type": "markdown",
   "metadata": {},
   "source": [
    "3. Use the same conversion table as above, but now write function `get_dict_list` to read the table into a `dict()`, such that for each amino acid the hash table stores the list of codons encoding it.    "
   ]
  },
  {
   "cell_type": "code",
   "execution_count": 231,
   "metadata": {
    "ExecuteTime": {
     "end_time": "2019-07-08T22:04:22.882386Z",
     "start_time": "2019-07-08T22:04:22.872449Z"
    },
    "tags": []
   },
   "outputs": [
    {
     "name": "stdout",
     "output_type": "stream",
     "text": [
      "{'*': ['UAA', 'UGA', 'UAG'],\n",
      " 'A': ['GCU', 'GCC', 'GCA', 'GCG'],\n",
      " 'C': ['UGU', 'UGC'],\n",
      " 'D': ['GAU', 'GAC'],\n",
      " 'E': ['GAA', 'GAG'],\n",
      " 'F': ['UUU', 'UUC'],\n",
      " 'G': ['GGU', 'GGC', 'GGA', 'GGG'],\n",
      " 'H': ['CAU', 'CAC'],\n",
      " 'I': ['AUU', 'AUC', 'AUA'],\n",
      " 'K': ['AAA', 'AAG'],\n",
      " 'L': ['UUA', 'UUG', 'CUU', 'CUC', 'CUA', 'CUG'],\n",
      " 'M': ['AUG'],\n",
      " 'N': ['AAU', 'AAC'],\n",
      " 'P': ['CCU', 'CCC', 'CCA', 'CCG'],\n",
      " 'Q': ['CAA', 'CAG'],\n",
      " 'R': ['CGU', 'CGC', 'CGA', 'CGG', 'AGA', 'AGG'],\n",
      " 'S': ['UCU', 'UCC', 'UCA', 'UCG', 'AGU', 'AGC'],\n",
      " 'T': ['ACU', 'ACC', 'ACA', 'ACG'],\n",
      " 'V': ['GUU', 'GUC', 'GUA', 'GUG'],\n",
      " 'W': ['UGG'],\n",
      " 'Y': ['UAU', 'UAC']}\n"
     ]
    }
   ],
   "source": [
    "\n",
    "def get_dict_list():\n",
    "    try:\n",
    "        with open(\"src/Codon usage table.html\") as f:\n",
    "            soup = BeautifulSoup(f)\n",
    "    except:\n",
    "        try:\n",
    "            with open(\"Codon usage table.html\") as f:\n",
    "                soup = BeautifulSoup(f)\n",
    "        except:\n",
    "            print(\"Something went wrong\")\n",
    "    \n",
    "    regex = r\"([A-Z]{3})\\s([A-Z]{1}|[*]{1})\"  # regex magic\n",
    "    \n",
    "    data = str(soup.pre.text) \n",
    "    fdata = re.findall(regex, data)\n",
    "    \n",
    "    #d = {}\n",
    "    dd = defaultdict(list)\n",
    "\n",
    "    for codon, amino in fdata:\n",
    "        dd[amino].append(codon)\n",
    "        #d.setdefault(amino, []).append(codon)  ## alternative without defaultdit\n",
    "    return dict(dd)\n",
    "    \n",
    "    \n",
    "if __name__ == '__main__':\n",
    "    aa_to_codons = get_dict_list()\n",
    "    \n",
    "    \n",
    "    \n",
    "    print(aa_to_codons)\n",
    "    #print(len(aa_to_codons))"
   ]
  },
  {
   "cell_type": "markdown",
   "metadata": {},
   "source": [
    "### Idea of solution\n",
    "\n",
    "With a mapping of one key to many values creating a dictionary can be a challenge. Collections.defaultdict() is useful here. Also provided is a commented option with a traditional dict. \n",
    "\n",
    "An aminoacid can be made out of one of several codons. "
   ]
  },
  {
   "cell_type": "markdown",
   "metadata": {},
   "source": [
    "### Discussion\n",
    "\n",
    "fill in "
   ]
  },
  {
   "cell_type": "markdown",
   "metadata": {},
   "source": [
    "With the conversion tables at hand, the following should be trivial to solve.\n",
    "\n",
    "4. Fill in function ```rna_to_prot``` in the stub solution to convert a given DNA sequence $s$ into a protein sequence. \n",
    "You may use the dictionaries from exercises 2 and 3. You can test your program with `ATGATATCATCGACGATGTAG`."
   ]
  },
  {
   "cell_type": "code",
   "execution_count": 232,
   "metadata": {
    "ExecuteTime": {
     "end_time": "2019-07-08T22:04:22.913321Z",
     "start_time": "2019-07-08T22:04:22.906646Z"
    },
    "tags": []
   },
   "outputs": [
    {
     "name": "stdout",
     "output_type": "stream",
     "text": [
      "'MISSTM*'\n"
     ]
    }
   ],
   "source": [
    "#rna = \"AUGAUAUCAUCGACGAUGUAG\"\n",
    "\n",
    "\n",
    "def rna_to_prot(seq):\n",
    "    d = get_dict()\n",
    "    \n",
    "    liste = [seq[i: i+3] for i in range(0, len(seq), 3)] # string of codons organized into list\n",
    "    \n",
    "    \n",
    "    return ''.join(d[base][0] for base in liste)      # converting each codon to amino, then back to string\n",
    "\n",
    "def dna_to_prot(seq):\n",
    "    return rna_to_prot(dna_to_rna(seq))\n",
    "\n",
    "\n",
    "if __name__ == '__main__':\n",
    "    print(dna_to_prot(\"ATGATATCATCGACGATGTAG\"))\n",
    "    #print(rna_to_prot(rna))"
   ]
  },
  {
   "cell_type": "markdown",
   "metadata": {},
   "source": [
    "### Idea of solution\n",
    "\n",
    "Handling and grouping of 3 characters of a string while looping through the string seemed quite complex. I found it easier to convert each group of 3 to an element in a list, and then getting the corresponding amino acid from the previous get_dict() dictionary. Then simply converting back to string format.   "
   ]
  },
  {
   "cell_type": "markdown",
   "metadata": {},
   "source": [
    "### Discussion\n",
    "\n",
    "fill in "
   ]
  },
  {
   "cell_type": "markdown",
   "metadata": {},
   "source": [
    "You may notice that there are $4^3=64$ different codons, but only 20 amino acids. That is, some triplets encode the same amino acid.  "
   ]
  },
  {
   "cell_type": "markdown",
   "metadata": {},
   "source": [
    "## Reverse translation\n",
    "\n",
    "It has been observed that among the codons coding the same amino acid, some are more frequent than others. These frequencies can be converted to probabilities. E.g. consider codons `AUU`, `AUC`, and `AUA` that code for amino acid isoleucine.\n",
    "If they are observed, say, 36, 47, 17 times, respectively, to code isoleucine in a dataset, the probability that a random such event is `AUU` $\\to$ isoleucine is 36/100.\n",
    "\n",
    "This phenomenon is called *codon adaptation*, and for our purposes it works as a good introduction to generation of random sequences under constraints.   \n",
    "\n",
    "5. Consider the codon adaptation frequencies in http://htmlpreview.github.io/?https://github.com/csmastersUH/data_analysis_with_python_2020/blob/master/Codon%20usage%20table.html and read them into a ```dict()```, such that for each RNA sequence of length 3, say `AGU`, the hash table stores the probability of that codon among codons encoding the same amino acid.\n",
    "Put your solution in the ```get_probabability_dict``` function."
   ]
  },
  {
   "cell_type": "code",
   "execution_count": 236,
   "metadata": {
    "ExecuteTime": {
     "end_time": "2019-07-08T22:04:22.966173Z",
     "start_time": "2019-07-08T22:04:22.956013Z"
    },
    "tags": []
   },
   "outputs": [
    {
     "name": "stdout",
     "output_type": "stream",
     "text": [
      "{'AAA': 0.43404935110207155,\n",
      " 'AAC': 0.5296330092531971,\n",
      " 'AAG': 0.5659506488979285,\n",
      " 'AAU': 0.4703669907468028,\n",
      " 'ACA': 0.28418772983891855,\n",
      " 'ACC': 0.35523154074391966,\n",
      " 'ACG': 0.11381188540055791,\n",
      " 'ACU': 0.2467688440166039,\n",
      " 'AGA': 0.21465774794262568,\n",
      " 'AGC': 0.23993794345056002,\n",
      " 'AGG': 0.21109127083138968,\n",
      " 'AGU': 0.14960182300967595,\n",
      " 'AUA': 0.16906151748761036,\n",
      " 'AUC': 0.4698662895003286,\n",
      " 'AUG': 1.0,\n",
      " 'AUU': 0.36107219301206106,\n",
      " 'CAA': 0.26501675921017337,\n",
      " 'CAC': 0.5814847871566309,\n",
      " 'CAG': 0.7349832407898266,\n",
      " 'CAU': 0.4185152128433691,\n",
      " 'CCA': 0.2766025276376192,\n",
      " 'CCC': 0.3234703981288551,\n",
      " 'CCG': 0.11319574457649788,\n",
      " 'CCU': 0.2867313296570278,\n",
      " 'CGA': 0.1088124833207855,\n",
      " 'CGC': 0.18377662978978224,\n",
      " 'CGG': 0.20155434006721587,\n",
      " 'CGU': 0.08010752804820104,\n",
      " 'CUA': 0.0713801723134756,\n",
      " 'CUC': 0.1955768259144855,\n",
      " 'CUG': 0.39570159041596514,\n",
      " 'CUU': 0.13171591206484023,\n",
      " 'GAA': 0.42245266280361615,\n",
      " 'GAC': 0.5354575808069573,\n",
      " 'GAG': 0.5775473371963838,\n",
      " 'GAU': 0.4645424191930427,\n",
      " 'GCA': 0.2281212631716276,\n",
      " 'GCC': 0.39978112134364696,\n",
      " 'GCG': 0.10617600127058811,\n",
      " 'GCU': 0.26592161421413735,\n",
      " 'GGA': 0.24992165149690412,\n",
      " 'GGC': 0.33710935809444503,\n",
      " 'GGG': 0.24988247724535617,\n",
      " 'GGU': 0.1630865131632947,\n",
      " 'GUA': 0.11657741053350681,\n",
      " 'GUC': 0.23830637956135173,\n",
      " 'GUG': 0.46334609810165434,\n",
      " 'GUU': 0.18177011180348712,\n",
      " 'UAA': 0.29701911804823383,\n",
      " 'UAC': 0.5566618907330789,\n",
      " 'UAG': 0.23673791389873997,\n",
      " 'UAU': 0.443338109266921,\n",
      " 'UCA': 0.15051714801827132,\n",
      " 'UCC': 0.21795953165920925,\n",
      " 'UCG': 0.05439771371883908,\n",
      " 'UCU': 0.18758584014344437,\n",
      " 'UGA': 0.46624296805302623,\n",
      " 'UGC': 0.5438426694963316,\n",
      " 'UGG': 1.0,\n",
      " 'UGU': 0.45615733050366836,\n",
      " 'UUA': 0.07656764558436285,\n",
      " 'UUC': 0.5358657301217032,\n",
      " 'UUG': 0.1290578537068707,\n",
      " 'UUU': 0.4641342698782968}\n"
     ]
    }
   ],
   "source": [
    "\n",
    "def get_probabability_dict():\n",
    "    try:\n",
    "        with open(\"src/Codon usage table.html\") as f:\n",
    "            soup = BeautifulSoup(f)\n",
    "    except:\n",
    "        try:\n",
    "            with open(\"Codon usage table.html\") as f:\n",
    "                soup = BeautifulSoup(f)\n",
    "        except:\n",
    "            print(\"Something went wrong\")\n",
    "    \n",
    "            #   ['UUU', 'F', '714298']\n",
    "            #    UUU                F                    714298\n",
    "    regex = r\"([A-Z]{3})\\s+([A-Z]{1}|[*]{1}).{11,13}\\(\\s?(\\d+)\"  # regex magic!\n",
    "    \n",
    "    \n",
    "    data = str(soup.pre).replace(\"<pre>\", \"\").replace(\"</pre>\", \"\")\n",
    "    fdata = re.findall(regex, data)\n",
    "    \n",
    "\n",
    "    \n",
    "    \n",
    "    codon_freq_list = defaultdict(list)\n",
    "    for codon, amino, freq in fdata:\n",
    "        codon_freq_list[codon] = int(freq)\n",
    "    \n",
    "    amino_freq_list = defaultdict(list)\n",
    "    for codon, amino, freq in fdata:\n",
    "        amino_freq_list[amino].append(int(freq))    \n",
    "    \n",
    "    freq_list_sum = defaultdict(list)\n",
    "    for amino, freqs in amino_freq_list.items():\n",
    "        freq_list_sum[amino] = sum(freqs)\n",
    "    \n",
    "    \n",
    "    \n",
    "    codon_to_amino = get_dict()\n",
    "\n",
    "    \n",
    "    \n",
    "    prob_list = defaultdict(list)\n",
    "    for codon, freq in codon_freq_list.items():\n",
    "        amino = codon_to_amino[codon]\n",
    "        summ = freq_list_sum[amino[0]]\n",
    "        if summ == 0:\n",
    "            summ = 1\n",
    "        prob_list[codon] = freq / summ\n",
    "        \n",
    "        \n",
    "#     return lof(fdata)   \n",
    "    return dict(prob_list)    \n",
    "    \n",
    "def lof(a):\n",
    "    return len(a)\n",
    "    \n",
    "if __name__ == '__main__':\n",
    "    \"\"\"\n",
    "    codon_to_prob = get_probabability_dict()   #  PROBABABILITY, REALLY?\n",
    "    #codon_to_prob = get_probability_dict()\n",
    "    items = sorted(codon_to_prob.items(), key=lambda x: x[0])\n",
    "    for i in range(1 + len(items)//6):\n",
    "        print(\"\\t\".join(\n",
    "            f\"{k}: {v:.6f}\"\n",
    "            for k, v in items[i*6:6+i*6]\n",
    "        ))\n",
    "    \"\"\"\n",
    "\n",
    "    print(get_probabability_dict())    "
   ]
  },
  {
   "cell_type": "markdown",
   "metadata": {},
   "source": [
    "### Idea of solution\n",
    "\n",
    "Regex to get the numbers. My solution has a lot of helper dictionaries, but it seems clearest to me that way. \n",
    "\n",
    "First helper is codon_freq_list which just stores the codon's number. \n",
    "Second helper is amino_freq_list which lists all codon numbers for one aminoacid.\n",
    "Third is freq_list_sum which sums all codon numbers for one aminoacid.\n",
    "\n",
    "Then dict prob_list takes each codon, and divides its number by sum of all codon numbers in that aminoacid. There we have the probability."
   ]
  },
  {
   "cell_type": "markdown",
   "metadata": {},
   "source": [
    "### Discussion\n",
    "\n",
    "If I were to load the data into pandas dataframes, I could perhaps get the sum for an aminoacid faster by groupby() function... Though a whole new set of problems arises when going this route."
   ]
  },
  {
   "cell_type": "markdown",
   "metadata": {},
   "source": [
    "Now you should have everything in place to easily solve the following.\n",
    "\n",
    "\n",
    "6. Write a class ```ProteinToMaxRNA``` with a ```convert``` method which converts a protein sequence into the most likely RNA sequence to be the source of this protein. Run your program with `LTPIQNRA`."
   ]
  },
  {
   "cell_type": "code",
   "execution_count": 143,
   "metadata": {
    "ExecuteTime": {
     "end_time": "2019-07-08T22:04:23.000743Z",
     "start_time": "2019-07-08T22:04:22.992108Z"
    },
    "tags": []
   },
   "outputs": [
    {
     "name": "stdout",
     "output_type": "stream",
     "text": [
      "'CUGACCCCCAUCCAGAACAGAGCC'\n"
     ]
    }
   ],
   "source": [
    "class ProteinToMaxRNA:\n",
    "    \n",
    "    def __init__(self):\n",
    "        self.prob_dict = get_probabability_dict()\n",
    "        self.amino_to_codon = get_dict_list()\n",
    "        \n",
    "        \n",
    "    def convert(self, s):\n",
    "        liste = []\n",
    "        \n",
    "        for i in s:\n",
    "            codon_list = self.amino_to_codon.get(i)\n",
    "            #codon_list = get_dict_list().get(i)\n",
    "            \n",
    "            most_prob_codon = \"\"\n",
    "            most_prob = 0\n",
    "            for j in codon_list:\n",
    "                prob = self.prob_dict.get(j)\n",
    "                #prob = get_probabability_dict().get(j)\n",
    "                \n",
    "                if prob > most_prob:\n",
    "                    most_prob = prob\n",
    "                    most_prob_codon = j\n",
    "            \n",
    "            liste.append(most_prob_codon)\n",
    "        \n",
    "        return ''.join(i for i in liste)\n",
    "\n",
    "\n",
    "if __name__ == '__main__':\n",
    "    protein_to_rna = ProteinToMaxRNA()\n",
    "    print(protein_to_rna.convert(\"LTPIQNRA\"))"
   ]
  },
  {
   "cell_type": "markdown",
   "metadata": {},
   "source": [
    "### Idea of solution\n",
    "\n",
    "Method converts each aminoacid to a list of codons. Assigns probabilities to each, and chooses the one with the highest probability. Could probably do this in a less <i>\"cody\"</i> type of way, with max(), but this clearly demonstrates what actually happens when comparing probabilities."
   ]
  },
  {
   "cell_type": "markdown",
   "metadata": {},
   "source": [
    "### Discussion\n",
    "\n",
    "Bit clueless about what to put in \\__init__ method.. I reference the other get_dict methods several times anyway..\n",
    "\n",
    "<br></br>\n",
    "\n"
   ]
  },
  {
   "cell_type": "markdown",
   "metadata": {},
   "source": [
    "Now we are almost ready to produce random RNA sequences that code a given protein sequence. For this, we need a subroutine to *sample from a probability distribution*. Consider our earlier example of probabilities 36/100, 47/100, and 17/100 for `AUU`, `AUC`, and `AUA`, respectively. \n",
    "Let us assume we have a random number generator ```random()``` that returns a random number from interval $[0,1)$. We may then partition the unit interval according to cumulative probabilities to $[0,36/100), [36/100,83/100), [83/100,1)$, respectively. Depending which interval the number ```random()``` hits, we select the codon accordingly.\n",
    "\n",
    "7. Write a function ```random_event``` that chooses a random event, given a probability distribution (set of events whose probabilities sum to 1).\n",
    "You can use function ```random.uniform``` to produce values uniformly at random from the range $[0,1)$. The distribution should be given to your function as a dictionary from events to their probabilities."
   ]
  },
  {
   "cell_type": "code",
   "execution_count": 186,
   "metadata": {
    "ExecuteTime": {
     "end_time": "2019-07-08T22:04:23.036655Z",
     "start_time": "2019-07-08T22:04:23.030067Z"
    },
    "tags": []
   },
   "outputs": [
    {
     "name": "stdout",
     "output_type": "stream",
     "text": [
      "('A, G, C, T, T, C, C, A, T, C, C, A, C, A, C, T, T, T, C, G, C, C, C, G, T, '\n",
      " 'T, T, G, T')\n"
     ]
    }
   ],
   "source": [
    "def random_event(dist):\n",
    "    \"\"\"\n",
    "    Takes as input a dictionary from events to their probabilities.\n",
    "    Return a random event sampled according to the given distribution.\n",
    "    The probabilities must sum to 1.0\n",
    "    \"\"\"\n",
    "    val = list(dist.values())\n",
    "    key = list(dist.keys())\n",
    "    \n",
    "    \n",
    "    return random.choice(key, p = val)\n",
    "\n",
    "    #return next(iter(dist))\n",
    "\n",
    "if __name__ == '__main__':\n",
    "    distribution = dict(zip(\"ACGT\", [0.10, 0.35, 0.15, 0.40]))\n",
    "    print(\", \".join(random_event(distribution) for _ in range(29)))\n",
    "    #print(random_event(distribution))"
   ]
  },
  {
   "cell_type": "markdown",
   "metadata": {},
   "source": [
    "### Idea of solution\n",
    "\n",
    "Numpy random has quite a few useful features. np.random.uniform could be used, but choice is what I've chosen. It choosen a random event from a sequence (numbers, or in this case nucleotids) based on a cumulative distribution function.\n"
   ]
  },
  {
   "cell_type": "markdown",
   "metadata": {},
   "source": [
    "### Discussion\n",
    "\n",
    "fill in "
   ]
  },
  {
   "cell_type": "markdown",
   "metadata": {},
   "source": [
    "With this general routine, the following should be easy to solve.\n",
    " \n",
    "8. Write a class ```ProteinToRandomRNA``` to produce a random RNA sequence encoding the input protein sequence according to the input codon adaptation probabilities. The actual conversion is done through the ```convert``` method. Run your program with `LTPIQNRA`."
   ]
  },
  {
   "cell_type": "code",
   "execution_count": 237,
   "metadata": {
    "ExecuteTime": {
     "end_time": "2019-07-08T22:04:23.073660Z",
     "start_time": "2019-07-08T22:04:23.067966Z"
    },
    "tags": []
   },
   "outputs": [
    {
     "name": "stdout",
     "output_type": "stream",
     "text": [
      "'CUUACGCCGAUCCAGAAUCGCGCG'\n"
     ]
    }
   ],
   "source": [
    "\n",
    "\n",
    "class ProteinToRandomRNA(object):\n",
    "    \n",
    "    def __init__(self):\n",
    "        prob_dict = get_probabability_dict()\n",
    "        amino_to_codon = get_dict_list()\n",
    "        \n",
    "    def convert(self, s):\n",
    "        liste = []\n",
    "        \n",
    "        for i in s:\n",
    "            codon_list = get_dict_list().get(i)\n",
    "            rnd_codon = np.random.choice(codon_list)\n",
    "            liste.append(rnd_codon)\n",
    "        \n",
    "        return ''.join(i for i in liste)\n",
    "        \n",
    "\n",
    "if __name__ == '__main__':\n",
    "   \n",
    "    protein_to_random_codons = ProteinToRandomRNA()\n",
    "    print(protein_to_random_codons.convert(\"LTPIQNRA\"))\n"
   ]
  },
  {
   "cell_type": "markdown",
   "metadata": {},
   "source": [
    "### Idea of solution\n",
    "\n",
    "Instead of choosing based on a given weighted distribution, now choose randomly from a codon-list. "
   ]
  },
  {
   "cell_type": "markdown",
   "metadata": {},
   "source": [
    "### Discussion\n",
    "\n",
    "fill in "
   ]
  },
  {
   "cell_type": "markdown",
   "metadata": {},
   "source": [
    "## Generating DNA sequences with higher-order Markov chains\n",
    "\n",
    "We will now reuse the machinery derived above in a related context. We go back to DNA sequences, and consider some easy statistics that can be used to characterize the sequences. \n",
    "First, just the frequencies of bases $\\texttt{A}$, $\\texttt{C}$, $\\texttt{G}$, $\\texttt{T}$ may reveal the species from which the input DNA originates; each species has a different base composition that has been formed during evolution. \n",
    "More interestingly, the areas where DNA to RNA transcription takes place (coding region) have an excess of $\\texttt{C}$ and $\\texttt{G}$ over $\\texttt{A}$ and $\\texttt{T}$. To detect such areas a common routine is to just use a *sliding window* of fixed size, say $k$, and compute for each window position \n",
    "$T[i..i+k-1]$ the base frequencies, where $T[1..n]$ is the input DNA sequence. When sliding the window from  $T[i..i+k-1]$ to $T[i+1..i+k]$ frequency $f(T[i])$ gets decreases by one and $f(T[i+k])$ gets increased by one. \n",
    "\n",
    "9. Write a *generator* ```sliding_window``` to compute sliding window base frequencies so that each moving of the window takes constant time. We saw in the beginning of the course one way how to create generators using\n",
    "  generator expression. Here we use a different way. For the function ```sliding_window``` to be a generator, it must have at least   one ```yield``` expression, see [https://docs.python.org/3/reference/expressions.html#yieldexpr](https://docs.python.org/3/reference/expressions.html#yieldexpr).\n",
    "  \n",
    "  Here is an example of a generator expression that works similarily to the built in `range` generator:\n",
    "  ```Python\n",
    "  def range(a, b=None, c=1):\n",
    "      current = 0 if b == None else a\n",
    "      end = a if b == None else b\n",
    "      while current < end:\n",
    "          yield current\n",
    "          current += c\n",
    "  ```\n",
    "  A yield expression can be used to return a value and *temporarily* return from the function."
   ]
  },
  {
   "cell_type": "code",
   "execution_count": 238,
   "metadata": {
    "ExecuteTime": {
     "end_time": "2019-07-08T22:04:23.111365Z",
     "start_time": "2019-07-08T22:04:23.100858Z"
    },
    "tags": []
   },
   "outputs": [
    {
     "name": "stdout",
     "output_type": "stream",
     "text": [
      "{'A': 0, 'C': 3, 'G': 0, 'T': 1}\n",
      "{'A': 0, 'C': 3, 'G': 1, 'T': 0}\n",
      "{'A': 1, 'C': 2, 'G': 1, 'T': 0}\n",
      "{'A': 1, 'C': 2, 'G': 1, 'T': 0}\n",
      "{'A': 1, 'C': 1, 'G': 2, 'T': 0}\n",
      "{'A': 1, 'C': 1, 'G': 2, 'T': 0}\n",
      "{'A': 0, 'C': 2, 'G': 2, 'T': 0}\n",
      "{'A': 0, 'C': 2, 'G': 2, 'T': 0}\n",
      "{'A': 0, 'C': 2, 'G': 1, 'T': 1}\n",
      "{'A': 0, 'C': 2, 'G': 0, 'T': 2}\n",
      "{'A': 0, 'C': 1, 'G': 1, 'T': 2}\n",
      "{'A': 0, 'C': 1, 'G': 1, 'T': 2}\n",
      "{'A': 0, 'C': 2, 'G': 1, 'T': 1}\n"
     ]
    }
   ],
   "source": [
    "def sliding_window(s, k):\n",
    "    \"\"\"\n",
    "    This function returns a generator that can be iterated over all\n",
    "    starting position of a k-window in the sequence.\n",
    "    For each starting position the generator returns the nucleotide frequencies\n",
    "    in the window as a dictionary.\n",
    "    \"\"\"\n",
    "    # (n - k + 1) chunks in input string\n",
    "\n",
    "    nucleotides = [\"A\", \"C\", \"G\", \"T\"]\n",
    "    \n",
    "    for i in range(0, len(s) - k + 1):\n",
    "        chunk = s[i: i+k]\n",
    "        freq = {str(letter) : chunk.count(letter) for letter in nucleotides}\n",
    "        yield freq\n",
    "        \n",
    "        \n",
    "    \n",
    "if __name__ == '__main__':\n",
    "    s = \"TCCCGACGGCCTTGCC\"\n",
    "    for d in sliding_window(s, 4):\n",
    "        print(d)"
   ]
  },
  {
   "cell_type": "markdown",
   "metadata": {},
   "source": [
    "### Idea of solution\n",
    "\n",
    "Iterates through string in k-length parts, and count the nucleotides in them. Dict comprehension {} is really useful here."
   ]
  },
  {
   "cell_type": "markdown",
   "metadata": {},
   "source": [
    "### Discussion\n",
    "\n",
    "Thought the solution first should return the actual chunks (kmers), which in a way was just as functional moving forward. The counts (frequencies) were easier to use though."
   ]
  },
  {
   "cell_type": "markdown",
   "metadata": {},
   "source": [
    " \n",
    "Our models so far have been so-called *zero-order* models, as each event has been independent of other events. With sequences, the dependencies of events are naturally encoded by their *contexts*. Considering that a sequence is produced from left-to-right, a *first-order* context for $T[i]$ is $T[i-1]$, that is, the immediately preceding symbol. *First-order Markov chain* is a sequence produced by generating $c=T[i]$ with the probability of event of seeing symbol $c$ after previously generated symbol $a=T[i-1]$. The first symbol of the chain is sampled according to the zero-order model.  \n",
    "The first-order model can naturally be extended to contexts of length $k$, with $T[i]$ depending on $T[i-k..i-1]$. Then the first $k$ symbols of the chain are sampled according to the zero-order model.  The following assignments develop the routines to work with the *higher-order Markov chains*. \n",
    "In what follows, a $k$-mer is a substring $T[i..i+k-1]$ of the sequence at an arbitrary position. \n",
    "\n",
    "\n",
    "\n",
    "10. Write function ```context_list``` that given an input DNA sequence $T$ associates to each $k$-mer $W$ the concatenation of all symbols $c$ that appear after context $W$ in $T$, that is, $T[i..i+k]=Wc$. For example, <span style=\"color:red; font:courier;\">GA</span> is associated to <span style=\"color:blue; font: courier;\">TCT</span> in $T$=<span style=\"font: courier;\">AT<span style=\"color:red;\">GA</span><span style=\"color:blue;\">T</span>ATCATC<span style=\"color:red;\">GA</span><span style=\"color:blue;\">C</span><span style=\"color:red;\">GA</span><span style=\"color:blue;\">T</span>GTAG</span>, when $k=2$."
   ]
  },
  {
   "cell_type": "code",
   "execution_count": 239,
   "metadata": {
    "ExecuteTime": {
     "end_time": "2019-07-08T22:04:23.168108Z",
     "start_time": "2019-07-08T22:04:23.162648Z"
    },
    "tags": []
   },
   "outputs": [
    {
     "name": "stdout",
     "output_type": "stream",
     "text": [
      "{'AC': 'G',\n",
      " 'AT': 'GACCC',\n",
      " 'CA': 'T',\n",
      " 'CG': 'AA',\n",
      " 'CT': 'A',\n",
      " 'GA': 'TCT',\n",
      " 'TA': 'TG',\n",
      " 'TC': 'AGT',\n",
      " 'TG': 'A'}\n"
     ]
    }
   ],
   "source": [
    "def k_generator(s, k):\n",
    "    \n",
    "    for i in range(0, len(s) - k):\n",
    "        chunk = s[i: i+k]\n",
    "        \n",
    "#         if i == len(s) - k:    # added if statement for last k-mer that doesn't have a context.\n",
    "#             next_chunk = ''    # can't do that, breaks context_probababilities..\n",
    "#         else:\n",
    "        next_chunk = s[i + k]\n",
    "            \n",
    "        yield chunk, next_chunk\n",
    "\n",
    "def context_list(s, k):\n",
    "    d = defaultdict(str)\n",
    "    \n",
    "    for chunk, next_chunk in k_generator(s, k):\n",
    "        d[chunk] = d[chunk] + next_chunk\n",
    "    \n",
    "    return dict(d)\n",
    "\n",
    "if __name__ == '__main__':\n",
    "    k = 2\n",
    "    s = \"ATGATATCATCGACGATCTAG\"\n",
    "    ss = \"ABCDA\"\n",
    "\n",
    "    d = context_list(s, k)\n",
    "    print(d)\n",
    "\n",
    "    "
   ]
  },
  {
   "cell_type": "markdown",
   "metadata": {},
   "source": [
    "### Idea of solution\n",
    "\n",
    "K_generator helper function returns a k-sized chunk from string s, and also the next k-sized chunk. Then context_list iterates through them and appends the next_chunk (context) to the original k-mer."
   ]
  },
  {
   "cell_type": "markdown",
   "metadata": {},
   "source": [
    "### Discussion\n",
    "\n",
    "First did this with a classic for loop, and without the generator helper function. Worked fine, but had problems with k = 0 and k = 1. Made exceptions for these in the next assignment, but realized it probably would function better if `context_list` had a generator function to help. \n",
    "\n",
    "<br></br>"
   ]
  },
  {
   "cell_type": "markdown",
   "metadata": {},
   "source": [
    "11. With the above solution, write function ```context_probabilities``` to count the frequencies of symbols in each context and convert these frequencies into probabilities. Run `context_probabilities` with $T=$ `ATGATATCATCGACGATGTAG` and $k$ values 0 and 2."
   ]
  },
  {
   "cell_type": "code",
   "execution_count": 241,
   "metadata": {
    "ExecuteTime": {
     "end_time": "2019-07-08T22:04:23.218964Z",
     "start_time": "2019-07-08T22:04:23.213773Z"
    },
    "tags": []
   },
   "outputs": [
    {
     "name": "stdout",
     "output_type": "stream",
     "text": [
      "{'': {'A': 0.3333333333333333,\n",
      "      'C': 0.14285714285714285,\n",
      "      'G': 0.23809523809523808,\n",
      "      'T': 0.2857142857142857}}\n",
      "{'AC': {'A': 0.0, 'C': 0.0, 'G': 1.0, 'T': 0.0},\n",
      " 'AT': {'A': 0.2, 'C': 0.4, 'G': 0.4, 'T': 0.0},\n",
      " 'CA': {'A': 0.0, 'C': 0.0, 'G': 0.0, 'T': 1.0},\n",
      " 'CG': {'A': 1.0, 'C': 0.0, 'G': 0.0, 'T': 0.0},\n",
      " 'GA': {'A': 0.0, 'C': 0.3333333333333333, 'G': 0.0, 'T': 0.6666666666666666},\n",
      " 'GT': {'A': 1.0, 'C': 0.0, 'G': 0.0, 'T': 0.0},\n",
      " 'TA': {'A': 0.0, 'C': 0.0, 'G': 0.5, 'T': 0.5},\n",
      " 'TC': {'A': 0.5, 'C': 0.0, 'G': 0.5, 'T': 0.0},\n",
      " 'TG': {'A': 0.5, 'C': 0.0, 'G': 0.0, 'T': 0.5}}\n"
     ]
    }
   ],
   "source": [
    "\n",
    "nucleotides = [\"A\", \"C\", \"G\", \"T\"]\n",
    "\n",
    "def context_probabilities(s, k):\n",
    "    d = defaultdict(list)\n",
    "    for kmer, context in context_list(s, k).items():\n",
    "        d[kmer] = {str(nuc): context.count(nuc) / len(context) for nuc in nucleotides}\n",
    "        \n",
    "    return dict(d)\n",
    "\n",
    "if __name__ == '__main__':\n",
    "    s = \"ATGATATCATCGACGATGTAG\"\n",
    "    \n",
    "    # output with k = 0: {'': {'A': 0.333333, 'C': 0.142857, 'T': 0.285714, 'G': 0.238095}}\n",
    "    \n",
    "    print(context_probabilities(s, 0))\n",
    "    \n",
    "    print(context_probabilities(s, 2))\n",
    "\n"
   ]
  },
  {
   "cell_type": "markdown",
   "metadata": {},
   "source": [
    "### Idea of solution\n",
    "\n",
    "Iterate through all possible nucleotides and count their probabilities. Probabilities counted by dividing count of nucleotide in context by the length of the context itself. \n"
   ]
  },
  {
   "cell_type": "markdown",
   "metadata": {},
   "source": [
    "### Discussion\n",
    "\n",
    "Previously implemented special k = 0 case in this method, but found a better way to implement it into context_list with generator functions."
   ]
  },
  {
   "cell_type": "markdown",
   "metadata": {},
   "source": [
    "12. With the above solution and the function ```random_event``` from the earlier exercise, write class ```MarkovChain```. Its ```generate``` method should generate a random DNA sequence following the original $k$-th order Markov chain probabilities. "
   ]
  },
  {
   "cell_type": "code",
   "execution_count": 248,
   "metadata": {
    "ExecuteTime": {
     "end_time": "2019-07-08T22:04:23.279315Z",
     "start_time": "2019-07-08T22:04:23.253983Z"
    },
    "tags": []
   },
   "outputs": [
    {
     "name": "stdout",
     "output_type": "stream",
     "text": [
      "'ACGATCATGT'\n"
     ]
    }
   ],
   "source": [
    "\n",
    "\n",
    "class MarkovChain(object):\n",
    "\n",
    "    def __init__(self, zeroth, kth, k = 2):\n",
    "        self.k = k\n",
    "        self.zeroth = zeroth\n",
    "        self.kth = kth\n",
    "\n",
    "    def generate(self, n, seed=None):\n",
    "        random.seed(seed) \n",
    "        \n",
    "        # if n is 0 or 1, return '': A,C,G,T\n",
    "        if(self.k > n):\n",
    "            return random_event(zeroth) * n\n",
    "        \n",
    "        #need a first random kmer to start generating random ones.\n",
    "        \n",
    "        seq = np.random.choice(list(self.kth.keys()))\n",
    "        \n",
    "        for i in range(0, n - self.k):\n",
    "            prev_kmer = seq[i: i + self.k]\n",
    "            \n",
    "            sample_nuc = random_event(self.kth[prev_kmer])\n",
    "            seq = seq + sample_nuc\n",
    "        \n",
    "        return seq\n",
    "\n",
    "\n",
    "if __name__ == '__main__':\n",
    "    zeroth = {'A': 0.2, 'C': 0.19, 'T': 0.31, 'G': 0.3}\n",
    "    kth = {'GT': {'A': 1.0, 'C': 0.0, 'T': 0.0, 'G': 0.0},\n",
    "           'CA': {'A': 0.0, 'C': 0.0, 'T': 1.0, 'G': 0.0},\n",
    "           'TC': {'A': 0.5, 'C': 0.0, 'T': 0.0, 'G': 0.5},\n",
    "           'GA': {'A': 0.0, 'C': 0.3333333333333333, 'T': 0.6666666666666666, 'G': 0.0},\n",
    "           'TG': {'A': 0.5, 'C': 0.0, 'T': 0.5, 'G': 0.0},\n",
    "           'AT': {'A': 0.2, 'C': 0.4, 'T': 0.0, 'G': 0.4},\n",
    "           'TA': {'A': 0.0, 'C': 0.0, 'T': 0.5, 'G': 0.5},\n",
    "           'AC': {'A': 0.0, 'C': 0.0, 'T': 0.0, 'G': 1.0},\n",
    "           'CG': {'A': 1.0, 'C': 0.0, 'T': 0.0, 'G': 0.0}\n",
    "          }\n",
    "    n = 10\n",
    "    seed =4\n",
    "    mc = MarkovChain(zeroth, kth)\n",
    "    print(mc.generate(n, seed))"
   ]
  },
  {
   "cell_type": "markdown",
   "metadata": {},
   "source": [
    "### Idea of solution\n",
    "\n",
    "If the k-size is larger than n (size of to-be generated string), return zeroth probabilities of each nucleotide.\n",
    "\n",
    "Otherwise picks a random kmer from kth dict.keys, then based on that kmers nucleotides probabilities picks the next one, and concenates into string."
   ]
  },
  {
   "cell_type": "markdown",
   "metadata": {},
   "source": [
    "### Discussion\n",
    "\n",
    "seed(0) gives keyError: 'AG' and I haven't really figured out why. Class seems to work as it should otherwise. If seed is removed alltogether, commented out, desired output it reached after a few tries."
   ]
  },
  {
   "cell_type": "markdown",
   "metadata": {},
   "source": [
    "If you have survived so far without problems, please run your program a few more times with different inputs. At some point you should get a lookup error in your hash-table! The reason for this is not your code, but the way we defined the model: Some $k$-mers may not be among the training data (input sequence $T$), but such can be generated as the first $k$-mer that is generated using the zero-order model.  \n",
    "\n",
    "A general approach to fixing such issues with incomplete training data is to use *pseudo counts*. That is, all imaginable events are initialized to frequency count 1.   \n",
    "\n",
    "13. Write a new solution `context_pseudo_probabilities` based on the solution to problem 11. But this time use pseudo counts in order to obtain a $k$-th order Markov chain that can assign a probability for any DNA sequence. You may use the standard library function `itertools.product` to iterate over all $k$-mer of given length (`product(\"ACGT\", repeat=k)`)."
   ]
  },
  {
   "cell_type": "code",
   "execution_count": 180,
   "metadata": {
    "ExecuteTime": {
     "end_time": "2019-07-08T22:04:23.303566Z",
     "start_time": "2019-07-08T22:04:23.296028Z"
    }
   },
   "outputs": [
    {
     "name": "stdout",
     "output_type": "stream",
     "text": [
      "\"zeroth: {'': {'A': 0.32, 'C': 0.16, 'G': 0.24, 'T': 0.28}}\"\n",
      "{'AA': {'A': 0.25, 'C': 0.25, 'G': 0.25, 'T': 0.25},\n",
      " 'AC': {'A': 0.2, 'C': 0.2, 'G': 0.4, 'T': 0.2},\n",
      " 'AG': {'A': 0.2, 'C': 0.2, 'G': 0.4, 'T': 0.2},\n",
      " 'AT': {'A': 0.2222222222222222,\n",
      "        'C': 0.3333333333333333,\n",
      "        'G': 0.3333333333333333,\n",
      "        'T': 0.1111111111111111},\n",
      " 'CA': {'A': 0.2, 'C': 0.2, 'G': 0.2, 'T': 0.4},\n",
      " 'CC': {'A': 0.25, 'C': 0.25, 'G': 0.25, 'T': 0.25},\n",
      " 'CG': {'A': 0.5,\n",
      "        'C': 0.16666666666666666,\n",
      "        'G': 0.16666666666666666,\n",
      "        'T': 0.16666666666666666},\n",
      " 'CT': {'A': 0.25, 'C': 0.25, 'G': 0.25, 'T': 0.25},\n",
      " 'GA': {'A': 0.14285714285714285,\n",
      "        'C': 0.2857142857142857,\n",
      "        'G': 0.14285714285714285,\n",
      "        'T': 0.42857142857142855},\n",
      " 'GC': {'A': 0.25, 'C': 0.25, 'G': 0.25, 'T': 0.25},\n",
      " 'GG': {'A': 0.25, 'C': 0.25, 'G': 0.25, 'T': 0.25},\n",
      " 'GT': {'A': 0.4, 'C': 0.2, 'G': 0.2, 'T': 0.2},\n",
      " 'TA': {'A': 0.16666666666666666,\n",
      "        'C': 0.16666666666666666,\n",
      "        'G': 0.3333333333333333,\n",
      "        'T': 0.3333333333333333},\n",
      " 'TC': {'A': 0.3333333333333333,\n",
      "        'C': 0.16666666666666666,\n",
      "        'G': 0.3333333333333333,\n",
      "        'T': 0.16666666666666666},\n",
      " 'TG': {'A': 0.3333333333333333,\n",
      "        'C': 0.16666666666666666,\n",
      "        'G': 0.16666666666666666,\n",
      "        'T': 0.3333333333333333},\n",
      " 'TT': {'A': 0.25, 'C': 0.25, 'G': 0.25, 'T': 0.25}}\n",
      "'GTAGGATCAAATCGAACGTT'\n"
     ]
    }
   ],
   "source": [
    "nucleotides = [\"A\", \"C\", \"G\", \"T\"]\n",
    "\n",
    "def pseudo_probabilities(s):\n",
    "    # natural probabilities, now we need them to sum to 1\n",
    "    #return {str(nuc): s.count(nuc) / len(s) for nuc in nucleotides}\n",
    "    \n",
    "    return {str(nuc): (s.count(nuc) + 1) / (len(s) + len(nucleotides)) for nuc in nucleotides}\n",
    "\n",
    "def context_pseudo_probabilities(s, k):\n",
    "    d = {}\n",
    "    \n",
    "    if k == 0:\n",
    "        return {\"\" : pseudo_probabilities(s)}\n",
    "    \n",
    "    # iterating through all possible kmers in given string\n",
    "    for i in itertools.product(\"ACGT\", repeat = k):\n",
    "        kmer = ''.join(i)\n",
    "        \n",
    "        #if given kmer is found in our string, search its context\n",
    "        c = context_list(s, k)\n",
    "        \n",
    "        if kmer in s:\n",
    "            try:\n",
    "                context = c[kmer]\n",
    "            except:\n",
    "                pass #keyerror ('AG') pops up. invalid really\n",
    "            \n",
    "            d[kmer] = pseudo_probabilities(context)\n",
    "        #if given kmer is not found in string, assign equal pseudoprobabilities to each nucleotide\n",
    "        else: \n",
    "            d[kmer] = {str(nuc): 0.25 for nuc in nucleotides}\n",
    "        \n",
    "    return d\n",
    "    \n",
    "if __name__ == '__main__':\n",
    "    #s = \"ATGATATCATCGACGATGTAG\"\n",
    "    #print(context_pseudo_probabilities(s, 2))\n",
    "    #print(context_list(s,2))\n",
    "\n",
    "    \n",
    "    \n",
    "    k = 2\n",
    "    s = \"ATGATATCATCGACGATGTAG\"\n",
    "    kth = context_pseudo_probabilities(s, k)\n",
    "    zeroth = context_pseudo_probabilities(s, 0)\n",
    "    print(f\"zeroth: {zeroth}\")\n",
    "    #print(\"\".join(f\"{k}: {dict(v)}\" for k, v in kth.items()))\n",
    "    print(kth)\n",
    "    \n",
    "    print(MarkovChain(zeroth, kth, k).generate(20, 0))\n"
   ]
  },
  {
   "cell_type": "markdown",
   "metadata": {},
   "source": [
    "### Idea of solution\n",
    "\n",
    "Pseudo_probabilities function is used to assert probabilities to nucleotides that sum up to one. \n",
    "\n",
    "Then basically the same solution, except if the kmer isn't found in input string, give the nucleotides equal probabilities each."
   ]
  },
  {
   "cell_type": "markdown",
   "metadata": {},
   "source": [
    "### Discussion\n",
    "\n",
    "Messy print right now, have to format/shorten the decimals.\n",
    "\n",
    "<!-- removed the [\"\"] from <i>zeroth = context_pseudo_probabilities(s, 0) </i>, dict messes up somehow...,  -->\n",
    "\n"
   ]
  },
  {
   "cell_type": "markdown",
   "metadata": {},
   "source": [
    "14. Write class ```MarkovProb``` that given the $k$-th order Markov chain developed above to the constructor, its method ```probability``` computes the probability of a given input DNA sequence."
   ]
  },
  {
   "cell_type": "code",
   "execution_count": 250,
   "metadata": {
    "ExecuteTime": {
     "end_time": "2019-07-08T22:04:23.346222Z",
     "start_time": "2019-07-08T22:04:23.330779Z"
    }
   },
   "outputs": [
    {
     "name": "stdout",
     "output_type": "stream",
     "text": [
      "2.831270190340017e-10\n",
      "'Probability of sequence ATGATATCATCGACGATGTAG is 2.831270190340017e-10'\n"
     ]
    }
   ],
   "source": [
    "class MarkovProb:\n",
    "    \n",
    "    def __init__(self, k, zeroth, kth):\n",
    "        self.k = k\n",
    "        self.zeroth = zeroth\n",
    "        self.kth = kth\n",
    "        \n",
    "    def k_next_nuc_generator(self, s):\n",
    "        \n",
    "        \"\"\"for self.k sized chunk, yield chunk and next nucleotide. \"\"\"\n",
    "      \n",
    "        for i in range(len(s) - self.k):\n",
    "            kmer = s[i: i + self.k]\n",
    "            next_n = s[i + self.k]\n",
    "            yield (kmer, next_n)\n",
    "            \n",
    "    def probability(self, s):\n",
    "        # multiply all nucleotides inside \n",
    "        \n",
    "        zeroth_prob_array = [self.zeroth[nuc] for nuc in s[: self.k]]\n",
    "        prob = np.product(zeroth_prob_array)\n",
    "        \n",
    "        #return prob\n",
    "        \n",
    "        for kmer, next_nuc in self.k_next_nuc_generator(s):\n",
    "            next_prob = self.kth[kmer][next_nuc] # what was the probability of the next nuc being what it was?\n",
    "            prob = prob * next_prob              # adding that to the total\n",
    "\n",
    "        return prob\n",
    "    \n",
    "    \n",
    "    \n",
    "if __name__ == '__main__':\n",
    "    \n",
    "    \n",
    "    k = 2\n",
    "    kth = context_pseudo_probabilities(\"ATGATATCATCGACGATGTAG\", k)\n",
    "    zeroth = context_pseudo_probabilities(\"ATGATATCATCGACGATGTAG\", 0)[\"\"]\n",
    "    mc = MarkovProb(2, zeroth, kth)\n",
    "    s=\"ATGATATCATCGACGATGTAG\"\n",
    "    \n",
    "    print(mc.probability(s))\n",
    "\n",
    "    \n",
    "    print(f\"Probability of sequence {s} is {mc.probability(s)}\")\n",
    "    \n",
    "    "
   ]
  },
  {
   "cell_type": "markdown",
   "metadata": {},
   "source": [
    "### Idea of solution\n",
    "\n",
    "The initial probabilities need to be multiplied from the nucleotides (obtained from the self.zeroth dict). Then we get the current kmer and the next nucleotide from the generator function, and retrieve the probabilities for these from the self.kth probability dict. These multiplied together are then returned.\n"
   ]
  },
  {
   "cell_type": "markdown",
   "metadata": {},
   "source": [
    "### Discussion\n",
    "\n",
    "fill in"
   ]
  },
  {
   "cell_type": "markdown",
   "metadata": {},
   "source": [
    "With the last assignment you might end up in trouble with precision, as multiplying many small probabilities gives a really small number in the end. There is an easy fix by using so-called log-transform. \n",
    "Consider computation of $P=s_1 s_2 \\cdots s_n$, where $0\\leq s_i\\leq 1$ for each $i$. Taking logarithm in base 2 from both sides gives $\\log _2 P= \\log _2 (s_1 s_2 \\cdots s_n)=\\log_2 s_1 + \\log_2 s_2 + \\cdots \\log s_n= \\sum_{i=1}^n \\log s_i$, with repeated application of the property that the logarithm of a multiplication of two numbers is the sum of logarithms of the two numbers taken separately. The results is abbreviated as log-probability.\n",
    "\n",
    "15. Write class ```MarkovLog``` that given the $k$-th order Markov chain developed above to the constructor, its method ```log_probability``` computes the log-probability of a given input DNA sequence. Run your program with $T=$ `ATGATATCATCGACGATGTAG` and $k=2$."
   ]
  },
  {
   "cell_type": "code",
   "execution_count": 251,
   "metadata": {
    "ExecuteTime": {
     "end_time": "2019-07-08T22:04:23.390453Z",
     "start_time": "2019-07-08T22:04:23.379760Z"
    }
   },
   "outputs": [
    {
     "name": "stdout",
     "output_type": "stream",
     "text": [
      "'Log probability of sequence ATGATATCATCGACGATGTAG is -31.717831515538315'\n"
     ]
    }
   ],
   "source": [
    "class MarkovLog(object):\n",
    "\n",
    "    def __init__(self, k, zeroth, kth):\n",
    "        self.k = k\n",
    "        self.zeroth = {nucleotide: log2(prob) for nucleotide, prob in zeroth.items()}\n",
    "        self.kth = {kmer : {n : log2(p) for n, p in prob_list.items() } for kmer, prob_list in kth.items()  }\n",
    "        \n",
    "    def k_next_nuc_generator(self, s):\n",
    "        \n",
    "        __doc__ = \"\"\"for self.k sized chunk, yield chunk and next nucleotide. \"\"\"\n",
    "        i = 0\n",
    "        \n",
    "        while i < len(s) - self.k:\n",
    "            kmer = s[i : i +self.k]\n",
    "            next_n = s[i + self.k]\n",
    "            i += 1\n",
    "            yield (kmer, next_n)\n",
    "\n",
    "    def log_probability(self, s):\n",
    "        \n",
    "        # sum!  all nucleotides inside \n",
    "        \n",
    "        zeroth_prob_array = [self.zeroth[nuc] for nuc in s[: self.k]]\n",
    "        prob = np.sum(zeroth_prob_array)\n",
    "        \n",
    "        #return prob\n",
    "        \n",
    "        for kmer, next_nuc in self.k_next_nuc_generator(s):\n",
    "            next_prob = self.kth[kmer][next_nuc]\n",
    "            prob = prob + next_prob\n",
    "\n",
    "        return prob\n",
    "    \n",
    "    \n",
    "    \n",
    "if __name__ == '__main__':\n",
    "    k = 2\n",
    "    kth = context_pseudo_probabilities(\"ATGATATCATCGACGATGTAG\", k)\n",
    "    zeroth = context_pseudo_probabilities(\"ATGATATCATCGACGATGTAG\", 0)[\"\"]\n",
    "    mc = MarkovLog(2, zeroth, kth)\n",
    "    s=\"ATGATATCATCGACGATGTAG\"\n",
    "    print(f\"Log probability of sequence {s} is {mc.log_probability(s)}\")"
   ]
  },
  {
   "cell_type": "markdown",
   "metadata": {},
   "source": [
    "### Idea of solution\n",
    "\n",
    "Basically same as before but with constructor probabilities transformed to log2s. Also final probability is summed rather than multiplied."
   ]
  },
  {
   "cell_type": "markdown",
   "metadata": {},
   "source": [
    "### Discussion\n",
    "\n",
    "Have to check if it works proberly. log<sub>2</sub>(n) should == $2^n$\twhich it does: \n",
    "\n",
    "n = -31.717831515538315 (from \"ATGATATCATCGACGATGTAG\") = 2.831270190340017e-10, same as previous exercise!\n",
    "\n",
    "\n"
   ]
  },
  {
   "cell_type": "markdown",
   "metadata": {},
   "source": [
    "Finally, if you try to use the code so far for very large inputs, you might observe that the concatenation of symbols following a context occupy considerable amount of space. This is unnecessary, as we only need the frequencies. \n",
    "\n",
    "16. Optimize the space requirement of your code from exercise 13 for the $k$-th order Markov chain by replacing the concatenations by direct computations of the frequencies. Implement this as the\n",
    "  ```better_context_probabilities``` function."
   ]
  },
  {
   "cell_type": "code",
   "execution_count": 220,
   "metadata": {
    "ExecuteTime": {
     "end_time": "2019-07-08T22:04:23.422302Z",
     "start_time": "2019-07-08T22:04:23.416330Z"
    }
   },
   "outputs": [
    {
     "name": "stdout",
     "output_type": "stream",
     "text": [
      "{'AA': {'A': 0.25, 'C': 0.25, 'G': 0.25, 'T': 0.25},\n",
      " 'AC': {'A': 0.25, 'C': 0.25, 'G': 0.25, 'T': 0.25},\n",
      " 'AG': {'A': 0.25, 'C': 0.25, 'G': 0.25, 'T': 0.25},\n",
      " 'AT': {'A': 0.25, 'C': 0.25, 'G': 0.25, 'T': 0.25},\n",
      " 'CA': {'A': 0.25, 'C': 0.25, 'G': 0.25, 'T': 0.25},\n",
      " 'CC': {'A': 0.25, 'C': 0.25, 'G': 0.25, 'T': 0.25},\n",
      " 'CG': {'A': 0.25, 'C': 0.25, 'G': 0.25, 'T': 0.25},\n",
      " 'CT': {'A': 0.25, 'C': 0.25, 'G': 0.25, 'T': 0.25},\n",
      " 'GA': {'A': 0.25, 'C': 0.25, 'G': 0.25, 'T': 0.25},\n",
      " 'GC': {'A': 0.25, 'C': 0.25, 'G': 0.25, 'T': 0.25},\n",
      " 'GG': {'A': 0.25, 'C': 0.25, 'G': 0.25, 'T': 0.25},\n",
      " 'GT': {'A': 0.25, 'C': 0.25, 'G': 0.25, 'T': 0.25},\n",
      " 'TA': {'A': 0.25, 'C': 0.25, 'G': 0.25, 'T': 0.25},\n",
      " 'TC': {'A': 0.25, 'C': 0.25, 'G': 0.25, 'T': 0.25},\n",
      " 'TG': {'A': 0.25, 'C': 0.25, 'G': 0.25, 'T': 0.25},\n",
      " 'TT': {'A': 0.25, 'C': 0.25, 'G': 0.25, 'T': 0.25}}\n"
     ]
    }
   ],
   "source": [
    "\n",
    "nucleotides = [\"A\", \"C\", \"G\", \"T\"]\n",
    "\n",
    "def better_context_probabilities(s, k):\n",
    "    d = {}\n",
    "    dd = {}\n",
    "    d3 = {}\n",
    "    if k == 0:\n",
    "        return pseudo_probababilities(s)\n",
    "    \n",
    "#     iterating through all possible kmers in given string\n",
    "    for i in itertools.product(\"ACGT\", repeat = k):\n",
    "        kmer = ''.join(i)\n",
    "        \n",
    "            \n",
    "         \n",
    "        d[kmer] = {str(nuc): 0.25 for nuc in nucleotides}\n",
    "    return d\n",
    "\n",
    "\n",
    "if __name__ == '__main__':\n",
    "    k = 2\n",
    "    s = \"ATGATATCATCGACGATGTAG\"\n",
    "    d = better_context_probabilities(s, k)\n",
    "    #print(\"\\n\".join(f\"{k}: {v}\" for k, v in d.items()))\n",
    "    print(d)"
   ]
  },
  {
   "cell_type": "markdown",
   "metadata": {},
   "source": [
    "### Idea of solution\n",
    "\n",
    "fill in"
   ]
  },
  {
   "cell_type": "markdown",
   "metadata": {},
   "source": [
    "### Discussion\n",
    "\n",
    "fill in"
   ]
  },
  {
   "cell_type": "markdown",
   "metadata": {},
   "source": [
    "While the earlier approach of explicit concatenation of symbols following a context suffered from inefficient use of space, it does have a benefit of giving another much simpler strategy to sample from the distribution: \n",
    "observe that an element of the concatenation taken uniformly randomly is sampled exactly with the correct probability. \n",
    "\n",
    "17. Revisit the solution 12 and modify it to directly sample from the concatenation of symbols following a context. The function ```np.random.choice``` may be convenient here. Implement the modified version as the new `SimpleMarkovChain` class."
   ]
  },
  {
   "cell_type": "code",
   "execution_count": 18,
   "metadata": {
    "ExecuteTime": {
     "end_time": "2019-07-08T22:04:23.462556Z",
     "start_time": "2019-07-08T22:04:23.453101Z"
    }
   },
   "outputs": [
    {
     "name": "stdout",
     "output_type": "stream",
     "text": [
      "🐍🐍🐍🐍🐍🐍🐍🐍🐍🐍\n"
     ]
    }
   ],
   "source": [
    "class SimpleMarkovChain(object):\n",
    "    def __init__(self, s, k):\n",
    "        pass\n",
    "\n",
    "    def generate(self, n, seed=None):\n",
    "        return \"🐍\"*n\n",
    "        \n",
    "if __name__ == '__main__':\n",
    "    k = 2\n",
    "    s = \"ATGATATCATCGACGATGTAG\"\n",
    "    n = 10\n",
    "    seed = 7\n",
    "    mc = SimpleMarkovChain(s, k)\n",
    "    print(mc.generate(n, seed))"
   ]
  },
  {
   "cell_type": "markdown",
   "metadata": {},
   "source": [
    "### Idea of solution\n",
    "\n",
    "fill in"
   ]
  },
  {
   "cell_type": "markdown",
   "metadata": {},
   "source": [
    "### Discussion\n",
    "\n",
    "fill in"
   ]
  },
  {
   "cell_type": "markdown",
   "metadata": {},
   "source": [
    "## $k$-mer index\n",
    "\n",
    "Our $k$-th order Markov chain can now be modified to a handy index structure called $k$-mer index. This index structure associates to each $k$-mer its list of occurrence positions in DNA sequence $T$.  Given a query $k$-mer $W$, one can thus easily list all positions $i$ with  $T[i..k-1]=W$.\n",
    "\n",
    "18. Implement function ```kmer_index``` inspired by your earlier code for the $k$-th order Markov chain. Test your program with `ATGATATCATCGACGATGTAG` and $k=2$."
   ]
  },
  {
   "cell_type": "code",
   "execution_count": 183,
   "metadata": {
    "ExecuteTime": {
     "end_time": "2019-07-08T22:04:23.504405Z",
     "start_time": "2019-07-08T22:04:23.494537Z"
    }
   },
   "outputs": [
    {
     "name": "stdout",
     "output_type": "stream",
     "text": [
      "'Using string:'\n",
      "'ATGATATCATCGACGATGTAG'\n",
      "'012345678901234567890'\n",
      "'2-mer index is:'\n",
      "{'AC': [12],\n",
      " 'AG': [19],\n",
      " 'AT': [0, 3, 5, 8, 15],\n",
      " 'CA': [7],\n",
      " 'CG': [10, 13],\n",
      " 'GA': [2, 11, 14],\n",
      " 'GT': [17],\n",
      " 'TA': [4, 18],\n",
      " 'TC': [6, 9],\n",
      " 'TG': [1, 16]}\n"
     ]
    }
   ],
   "source": [
    "\n",
    "def kmer_index_generator(s, k):    \n",
    "    \n",
    "    for i in range(0, len(s) - k + 1):\n",
    "        chunk = s[i: i+k]\n",
    "        yield (chunk, i)\n",
    "        \n",
    "\n",
    "def kmer_index(s, k):\n",
    "    d = defaultdict(list)\n",
    "    \n",
    "    for k, i in kmer_index_generator(s, k):\n",
    "        d[k].append(i)\n",
    "        \n",
    "    return dict(d)\n",
    "\n",
    "if __name__ == '__main__':\n",
    "    k=2\n",
    "    s = \"ATGATATCATCGACGATGTAG\"\n",
    "    print(\"Using string:\")\n",
    "    print(s)\n",
    "    print(\"\".join([str(i%10) for i in range(len(s))]))\n",
    "    print(f\"{k}-mer index is:\")\n",
    "    d=kmer_index(s, k)\n",
    "    print(dict(d))"
   ]
  },
  {
   "cell_type": "markdown",
   "metadata": {},
   "source": [
    "### Idea of solution\n",
    "\n",
    "Generator functions are useful, used one to yield every k-sized kmer and it's index. Then iterate through all of them and append to a defaultdict(list) so that they're grouped together. "
   ]
  },
  {
   "cell_type": "markdown",
   "metadata": {},
   "source": [
    "### Discussion\n",
    "\n",
    "Should the indexing be in form \"012345678901234567890\" instead as example should suggest? Probably not, would be much harder to actually use the indexes in an even slightly longer sequence."
   ]
  },
  {
   "cell_type": "markdown",
   "metadata": {},
   "source": [
    "## Comparison of probability distributions\n",
    "\n",
    "Now that we know how to learn probability distributions from data, we might want to compare two such distributions, for example, to test if our programs work as intended. \n",
    "\n",
    "Let $P=\\{p_1,p_2,\\ldots, p_n\\}$ and $Q=\\{q_1,q_2,\\ldots, q_n\\}$ be two probability distributions for the same set of $n$ events. This means $\\sum_{i=1}^n p_i=\\sum_{i=1}^n q_i=1$, $0\\leq p_j \\leq 1$, and $0\\leq q_j \\leq 1$ for each event $j$. \n",
    "\n",
    "*Kullback-Leibler divergence* is a measure $d()$ for the *relative entropy* of $P$ with respect to $Q$ defined as \n",
    "$d(P||Q)=\\sum_{i=1}^n p_i \\log\\frac{p_i}{q_i}$.\n",
    "\n",
    "\n",
    "This measure is always non-negative, and 0 only when $P=Q$. It can be interpreted as the gain of knowing $Q$ to encode $P$. Note that this measure is not symmetric.\n",
    "\n",
    "19. Write function ```kullback_leibler``` to compute $d(P||Q)$. Test your solution by generating a random RNA sequence\n",
    "  encoding the input protein sequence according to the input codon adaptation probabilities.\n",
    "  Then you should learn the codon adaptation probabilities from the RNA sequence you generated.\n",
    "  Then try the same with uniformly random RNA sequences (which don't have to encode any\n",
    "  specific protein sequence). Compute the relative entropies between the\n",
    "  three distribution (original, predicted, uniform) and you should observe a clear difference.\n",
    "  Because $d(P||Q)$ is not symmetric, you can either print both $d(P||Q)$ and $d(Q||P)$,\n",
    "  or their average.\n",
    "  \n",
    "  This problem may be fairly tricky. Only the `kullback_leibler` function is automatically tested. The codon probabilities is probably a useful helper function. The main guarded section can be completed by filling out the `pass` sections using tooling from previous parts and fixing the *placeholder* lines."
   ]
  },
  {
   "cell_type": "code",
   "execution_count": 229,
   "metadata": {
    "ExecuteTime": {
     "end_time": "2019-07-08T22:04:23.557340Z",
     "start_time": "2019-07-08T22:04:23.539188Z"
    }
   },
   "outputs": [
    {
     "ename": "TypeError",
     "evalue": "_prod_dispatcher() got an unexpected keyword argument 'repeat'",
     "output_type": "error",
     "traceback": [
      "\u001b[0;31m---------------------------------------------------------------------------\u001b[0m",
      "\u001b[0;31mTypeError\u001b[0m                                 Traceback (most recent call last)",
      "\u001b[0;32m<ipython-input-229-c65dd9f9f6a3>\u001b[0m in \u001b[0;36m<module>\u001b[0;34m\u001b[0m\n\u001b[1;32m     29\u001b[0m \u001b[0;34m\u001b[0m\u001b[0m\n\u001b[1;32m     30\u001b[0m     \u001b[0;31m# Calculate codon probabilities based on the codon usage table\u001b[0m\u001b[0;34m\u001b[0m\u001b[0;34m\u001b[0m\u001b[0;34m\u001b[0m\u001b[0m\n\u001b[0;32m---> 31\u001b[0;31m     \u001b[0mcp_orig\u001b[0m \u001b[0;34m=\u001b[0m \u001b[0;34m{\u001b[0m\u001b[0;34m\"\"\u001b[0m\u001b[0;34m.\u001b[0m\u001b[0mjoin\u001b[0m\u001b[0;34m(\u001b[0m\u001b[0mcodon\u001b[0m\u001b[0;34m)\u001b[0m\u001b[0;34m:\u001b[0m \u001b[0;36m0\u001b[0m \u001b[0;32mfor\u001b[0m \u001b[0mcodon\u001b[0m \u001b[0;32min\u001b[0m \u001b[0mnp\u001b[0m\u001b[0;34m.\u001b[0m\u001b[0mproduct\u001b[0m\u001b[0;34m(\u001b[0m\u001b[0;34m\"ACGU\"\u001b[0m\u001b[0;34m,\u001b[0m \u001b[0mrepeat\u001b[0m \u001b[0;34m=\u001b[0m \u001b[0;36m3\u001b[0m \u001b[0;34m)\u001b[0m\u001b[0;34m}\u001b[0m \u001b[0;31m# placeholder dict\u001b[0m\u001b[0;34m\u001b[0m\u001b[0;34m\u001b[0m\u001b[0m\n\u001b[0m\u001b[1;32m     32\u001b[0m \u001b[0;34m\u001b[0m\u001b[0m\n\u001b[1;32m     33\u001b[0m     \u001b[0;31m# Create a completely random RNA sequence and get the codon probabilities\u001b[0m\u001b[0;34m\u001b[0m\u001b[0;34m\u001b[0m\u001b[0;34m\u001b[0m\u001b[0m\n",
      "\u001b[0;32m<__array_function__ internals>\u001b[0m in \u001b[0;36mproduct\u001b[0;34m(*args, **kwargs)\u001b[0m\n",
      "\u001b[0;31mTypeError\u001b[0m: _prod_dispatcher() got an unexpected keyword argument 'repeat'"
     ]
    }
   ],
   "source": [
    "def codon_probabilities(rna):\n",
    "    \"\"\"\n",
    "    Given an RNA sequence, simply calculates the proability of\n",
    "    all 3-mers empirically based on the sequence\n",
    "    \"\"\"\n",
    "    return {\"\".join(codon): 0 for codon in np.product(\"ACGU\", repeat=3)}\n",
    "    \n",
    "def kullback_leibler(p, q):\n",
    "    \"\"\"\n",
    "    Computes Kullback-Leibler divergence between two distributions.\n",
    "    Both p and q must be dictionaries from events to probabilities.\n",
    "    The divergence is defined only when q[event] == 0 implies p[event] == 0.\n",
    "    \"\"\"\n",
    "    return sum(p[i] * log2(p[i]/q[i]) for i in range(len(p)))\n",
    "\n",
    "if __name__ == '__main__':\n",
    "    aas = list(\"*ACDEFGHIKLMNPQRSTVWY\") # List of amino acids\n",
    "    n = 10000\n",
    "    \n",
    "    # generate a random protein and some associated rna\n",
    "    protein = \"\".join(random.choice(aas, n))    \n",
    "    pass\n",
    "    \n",
    "    # Maybe check that converting back to protein results in the same sequence\n",
    "    pass\n",
    "    \n",
    "    # Calculate codon probabilities of the rna sequence\n",
    "#     cp_predicted = codon_probabilities(\"<rna sequence>\") # placeholder call\n",
    "    \n",
    "    # Calculate codon probabilities based on the codon usage table\n",
    "    cp_orig = {\"\".join(codon): 0 for codon in np.product(\"ACGU\", repeat = 3 )} # placeholder dict\n",
    "    \n",
    "    # Create a completely random RNA sequence and get the codon probabilities\n",
    "    pass\n",
    "    cp_uniform = codon_probabilities(\"<random rna sequence>\") # placeholder call\n",
    "    \n",
    "    print(\"d(original || predicted) =\", kullback_leibler(cp_orig, cp_orig))\n",
    "    print(\"d(predicted || original) =\", kullback_leibler(cp_predicted, cp_orig))\n",
    "    print()\n",
    "    print(\"d(original || uniform) =\", kullback_leibler(cp_orig, cp_uniform))\n",
    "    print(\"d(uniform || original) =\", kullback_leibler(cp_uniform, cp_orig))\n",
    "    print()\n",
    "    print(\"d(predicted || uniform) =\", kullback_leibler(cp_predicted, cp_uniform))\n",
    "    print(\"d(uniform || predicted) =\", kullback_leibler(cp_uniform, cp_predicted))"
   ]
  },
  {
   "cell_type": "markdown",
   "metadata": {},
   "source": [
    "### Idea of solution\n",
    "\n",
    "No idea. Did take a look at the actual function of kullback_leibler and implemented it."
   ]
  },
  {
   "cell_type": "markdown",
   "metadata": {},
   "source": [
    "### Discussion\n",
    "\n",
    "fill in"
   ]
  },
  {
   "cell_type": "markdown",
   "metadata": {},
   "source": [
    "## Stationary and equilibrium distributions (extra)\n",
    "\n",
    "Let us consider a Markov chain of order one on the set of nucleotides.\n",
    "Its transition probabilities can be expressed as a $4 \\times 4$ matrix\n",
    "$P=(p_{ij})$, where the element $p_{ij}$ gives the probability of the $j$th nucleotide\n",
    "on the condition the previous nucleotide was the $i$th. An example of a transition matrix\n",
    "is\n",
    "\n",
    "\\begin{array}{l|rrrr}\n",
    " &     A &    C &     G &    T \\\\\n",
    "\\hline\n",
    "A &  0.30 &  0.0 &  0.70 &  0.0 \\\\\n",
    "C &  0.00 &  0.4 &  0.00 &  0.6 \\\\\n",
    "G &  0.35 &  0.0 &  0.65 &  0.0 \\\\\n",
    "T &  0.00 &  0.2 &  0.00 &  0.8 \\\\\n",
    "\\end{array}.\n",
    "\n",
    "A distribution $\\pi=(\\pi_1,\\pi_2,\\pi_3,\\pi_4)$ is called *stationary*, if\n",
    "$\\pi = \\pi P$ (the product here is matrix product).\n",
    "\n",
    "20. Write function ```get_stationary_distributions``` that gets a transition matrix as parameter,\n",
    "  and returns the list of stationary distributions. You can do this with NumPy by\n",
    "  first taking transposition of both sides of the above equation to get equation\n",
    "  $\\pi^T = P^T \\pi^T$. Using numpy.linalg.eig take all eigenvectors related to\n",
    "  eigenvalue 1.0. By normalizing these vectors to sum up to one get the stationary distributions\n",
    "  of the original transition matrix. In the ```main``` function print the stationary distributions\n",
    "  of the above transition matrix."
   ]
  },
  {
   "cell_type": "code",
   "execution_count": 21,
   "metadata": {
    "ExecuteTime": {
     "end_time": "2019-07-08T22:04:23.591644Z",
     "start_time": "2019-07-08T22:04:23.580588Z"
    }
   },
   "outputs": [
    {
     "name": "stdout",
     "output_type": "stream",
     "text": [
      "+0.162, -0.227, +0.388, +0.151\n",
      "-0.370, +0.057, +0.198, +0.037\n"
     ]
    }
   ],
   "source": [
    "def get_stationary_distributions(transition):\n",
    "    \"\"\"\n",
    "    The function get a transition matrix of a degree one Markov chain as parameter.\n",
    "    It returns a list of stationary distributions, in vector form, for that chain.\n",
    "    \"\"\"\n",
    "    return np.random.rand(2, 4) - 0.5\n",
    "    \n",
    "    \n",
    "if __name__ == \"__main__\":\n",
    "    transition=np.array([[0.3, 0, 0.7, 0],\n",
    "                         [0, 0.4, 0, 0.6],\n",
    "                         [0.35, 0, 0.65, 0],\n",
    "                         [0, 0.2, 0, 0.8]])\n",
    "    print(\"\\n\".join(\n",
    "        \", \".join(\n",
    "            f\"{pv:+.3f}\"\n",
    "            for pv in p) \n",
    "        for p in get_stationary_distributions(transition)))"
   ]
  },
  {
   "cell_type": "markdown",
   "metadata": {},
   "source": [
    "### Idea of solution\n"
   ]
  },
  {
   "cell_type": "markdown",
   "metadata": {},
   "source": [
    "### Discussion\n"
   ]
  },
  {
   "cell_type": "markdown",
   "metadata": {},
   "source": [
    "21. Implement the `kl_divergence` function below so that the main guarded code runs properly. Using your modified Markov chain generator generate a nucleotide sequence $s$ of length $10\\;000$. Choose prefixes of $s$ of lengths $1, 10, 100, 1000$, and $10\\;000$. For each of these prefixes find out their nucleotide distribution (of order 0) using your earlier tool. Use 1 as the pseudo count. Then, for each prefix, compute the KL divergence between the initial distribution and the normalized nucleotide distribution."
   ]
  },
  {
   "cell_type": "code",
   "execution_count": 22,
   "metadata": {
    "ExecuteTime": {
     "end_time": "2019-07-08T22:04:23.635060Z",
     "start_time": "2019-07-08T22:04:23.618890Z"
    }
   },
   "outputs": [
    {
     "name": "stdout",
     "output_type": "stream",
     "text": [
      "Transition probabilities are:\n",
      "[[ 0.3   0.    0.7   0.  ]\n",
      " [ 0.    0.4   0.    0.6 ]\n",
      " [ 0.35  0.    0.65  0.  ]\n",
      " [ 0.    0.2   0.    0.8 ]]\n",
      "Stationary distributions:\n",
      "[[ 0.02421173 -0.29026212  0.1389851   0.44623574]\n",
      " [ 0.24261234  0.09071543  0.35909807 -0.47662849]]\n",
      "Using [0.24, 0.09, 0.36, -0.48] as initial distribution\n",
      "\n",
      "KL divergence of stationary distribution prefix of length     1 is 0.60666836\n",
      "KL divergence of stationary distribution prefix of length    10 is 0.71775085\n",
      "KL divergence of stationary distribution prefix of length   100 is 0.38115273\n",
      "KL divergence of stationary distribution prefix of length  1000 is 0.36116144\n",
      "KL divergence of stationary distribution prefix of length 10000 is 0.22844669\n"
     ]
    }
   ],
   "source": [
    "def kl_divergences(initial, transition):\n",
    "    \"\"\"\n",
    "    Calculates the the Kullback-Leibler divergences between empirical distributions\n",
    "    generated using a markov model seeded with an initial distributin and a transition \n",
    "    matrix, and the initial distribution.\n",
    "    Sequences of length [1, 10, 100, 1000, 10000] are generated.\n",
    "    \"\"\"\n",
    "    return zip([1, 10, 100, 1000, 10000], np.random.rand(5))\n",
    "\n",
    "if __name__ == \"__main__\":\n",
    "    transition=np.array([[0.3, 0, 0.7, 0],\n",
    "                         [0, 0.4, 0, 0.6],\n",
    "                         [0.35, 0, 0.65, 0],\n",
    "                         [0, 0.2, 0, 0.8]])\n",
    "    print(\"Transition probabilities are:\")\n",
    "    print(transition)\n",
    "    stationary_distributions = get_stationary_distributions(transition)\n",
    "    print(\"Stationary distributions:\")\n",
    "    print(np.stack(stationary_distributions))\n",
    "    initial = stationary_distributions[1]\n",
    "    print(\"Using [{}] as initial distribution\\n\".format(\", \".join(f\"{v:.2f}\" for v in initial)))\n",
    "    results = kl_divergences(initial, transition)\n",
    "    for prefix_length, divergence in results: # iterate on prefix lengths in order (1, 10, 100...)\n",
    "        print(\"KL divergence of stationary distribution prefix \" \\\n",
    "              \"of length {:5d} is {:.8f}\".format(prefix_length, divergence))"
   ]
  },
  {
   "cell_type": "markdown",
   "metadata": {},
   "source": [
    "### Idea of solution\n",
    "\n",
    "fill in"
   ]
  },
  {
   "cell_type": "markdown",
   "metadata": {},
   "source": [
    "### Discussion\n",
    "fill in"
   ]
  },
  {
   "cell_type": "markdown",
   "metadata": {},
   "source": [
    "22. Implement the following in the ```main``` function.\n",
    "Find the stationary distribution for the following transition matrix:  \n",
    "\n",
    "\\begin{array}{ l | r r r r}\n",
    " & A &     C &     G &     T \\\\\n",
    "\\hline\n",
    "A &  0.30 &  0.10 &  0.50 &  0.10 \\\\\n",
    "C &  0.20 &  0.30 &  0.15 &  0.35 \\\\\n",
    "G &  0.25 &  0.15 &  0.20 &  0.40 \\\\\n",
    "T &  0.35 &  0.20 &  0.40 &  0.05 \\\\\n",
    "\\end{array}\n",
    "\n",
    "Since there is only one stationary distribution, it is called the *equilibrium distribution*.\n",
    "Choose randomly two nucleotide distributions. You can take these from your sleeve or\n",
    "sample them from the Dirichlet distribution. Then for each of these distributions\n",
    "as the initial distribution of the Markov chain, repeat the above experiment.\n",
    "\n",
    "The `main` function should return tuples, where the first element is the (random) initial distribution and the second element contains the results as a list of tuples where the first element is the kl divergence and the second element the empirical nucleotide distribution, for the different prefix lengths.\n",
    "\n",
    "The state distribution should converge to the equilibrium distribution no matter how we\n",
    "start the Markov chain! That is the last line of the tables should have KL-divergence very close to $0$ and an empirical distribution very close to the equilibrium distribution.\n"
   ]
  },
  {
   "cell_type": "code",
   "execution_count": 23,
   "metadata": {
    "ExecuteTime": {
     "end_time": "2019-07-08T22:04:23.681300Z",
     "start_time": "2019-07-08T22:04:23.657345Z"
    }
   },
   "outputs": [
    {
     "name": "stdout",
     "output_type": "stream",
     "text": [
      "Transition probabilities are:\n",
      "[[ 0.3   0.1   0.5   0.1 ]\n",
      " [ 0.2   0.3   0.15  0.35]\n",
      " [ 0.25  0.15  0.2   0.4 ]\n",
      " [ 0.35  0.2   0.4   0.05]]\n",
      "Equilibrium distribution:\n",
      "[ 0.05549613 -0.0618828  -0.3045492   0.11913485]\n",
      "\n",
      "Using [-0.3337754   0.45068768 -0.10300145 -0.20088342] as initial distribution:\n",
      "kl-divergence   empirical distribution\n",
      "0.25023050057   [ 0.2243623   0.15184879 -0.36068593  0.0442362 ]\n",
      "0.85018673369   [-0.27420015 -0.1344076  -0.08342149  0.10517491]\n",
      "0.69016371310   [-0.11457606  0.27115112  0.16359241 -0.1280264 ]\n",
      "0.14692236781   [ 0.07706555  0.23608696  0.01647088 -0.08926859]\n",
      "0.98884289212   [-0.06341222  0.45084425  0.3957673  -0.40553139]\n",
      "\n",
      "Using [-0.14182502  0.21310283  0.21065106  0.45942999] as initial distribution:\n",
      "kl-divergence   empirical distribution\n",
      "0.09700875402   [ 0.35101425 -0.18876535  0.25445247 -0.20776396]\n",
      "0.51559517427   [ 0.31812104 -0.03010157 -0.2113726  -0.49508434]\n",
      "0.92023091580   [ 0.40268876 -0.22995087 -0.42421415 -0.1464154 ]\n",
      "0.32096833450   [ 0.15860567 -0.16145627  0.04025597 -0.3869026 ]\n",
      "0.33771485079   [-0.30140972  0.27013169 -0.49653246 -0.12583137]\n"
     ]
    }
   ],
   "source": [
    "def main(transition, equilibrium_distribution):\n",
    "    vals = list(zip(np.random.rand(10), np.random.rand(10, 4) - 0.5))\n",
    "    return zip(np.random.rand(2, 4) - 0.5, \n",
    "               [vals[:5], vals[5:]])\n",
    "\n",
    "\n",
    "if __name__ == \"__main__\":\n",
    "    transition = np.array([[0.3, 0.1, 0.5, 0.1],\n",
    "                           [0.2, 0.3, 0.15, 0.35],\n",
    "                           [0.25, 0.15, 0.2, 0.4],\n",
    "                           [0.35, 0.2, 0.4, 0.05]])\n",
    "    print(\"Transition probabilities are:\", transition, sep=\"\\n\")\n",
    "    stationary_distributions = get_stationary_distributions(transition)\n",
    "    # Uncomment the below line to check that there actually is only one stationary distribution\n",
    "    # assert len(stationary_distributions) == 1\n",
    "    equilibrium_distribution = stationary_distributions[0]\n",
    "    print(\"Equilibrium distribution:\")\n",
    "    print(equilibrium_distribution)\n",
    "    for initial_distribution, results in main(transition, equilibrium_distribution):\n",
    "        print(\"\\nUsing {} as initial distribution:\".format(initial_distribution))\n",
    "        print(\"kl-divergence   empirical distribution\")\n",
    "        print(\"\\n\".join(\"{:.11f}   {}\".format(di, kl) for di, kl in results))"
   ]
  },
  {
   "cell_type": "markdown",
   "metadata": {},
   "source": [
    "### Idea of solution\n",
    "\n",
    "fill in"
   ]
  },
  {
   "cell_type": "markdown",
   "metadata": {},
   "source": [
    "### Discussion\n",
    "fill in"
   ]
  }
 ],
 "metadata": {
  "kernelspec": {
   "display_name": "Python 3",
   "language": "python",
   "name": "python3"
  },
  "language_info": {
   "codemirror_mode": {
    "name": "ipython",
    "version": 3
   },
   "file_extension": ".py",
   "mimetype": "text/x-python",
   "name": "python",
   "nbconvert_exporter": "python",
   "pygments_lexer": "ipython3",
   "version": "3.8.3"
  },
  "varInspector": {
   "cols": {
    "lenName": 16,
    "lenType": 16,
    "lenVar": 40
   },
   "kernels_config": {
    "python": {
     "delete_cmd_postfix": "",
     "delete_cmd_prefix": "del ",
     "library": "var_list.py",
     "varRefreshCmd": "print(var_dic_list())"
    },
    "r": {
     "delete_cmd_postfix": ") ",
     "delete_cmd_prefix": "rm(",
     "library": "var_list.r",
     "varRefreshCmd": "cat(var_dic_list()) "
    }
   },
   "position": {
    "height": "598.85px",
    "left": "1223px",
    "right": "20px",
    "top": "121px",
    "width": "353px"
   },
   "types_to_exclude": [
    "module",
    "function",
    "builtin_function_or_method",
    "instance",
    "_Feature"
   ],
   "window_display": false
  }
 },
 "nbformat": 4,
 "nbformat_minor": 2
}
